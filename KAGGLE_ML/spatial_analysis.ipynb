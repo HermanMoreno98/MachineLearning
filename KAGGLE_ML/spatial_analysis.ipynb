{
 "cells": [
  {
   "cell_type": "code",
   "execution_count": 2,
   "metadata": {},
   "outputs": [],
   "source": [
    "import geopandas as gpd"
   ]
  },
  {
   "cell_type": "code",
   "execution_count": 3,
   "metadata": {},
   "outputs": [
    {
     "data": {
      "text/html": [
       "<div>\n",
       "<style scoped>\n",
       "    .dataframe tbody tr th:only-of-type {\n",
       "        vertical-align: middle;\n",
       "    }\n",
       "\n",
       "    .dataframe tbody tr th {\n",
       "        vertical-align: top;\n",
       "    }\n",
       "\n",
       "    .dataframe thead th {\n",
       "        text-align: right;\n",
       "    }\n",
       "</style>\n",
       "<table border=\"1\" class=\"dataframe\">\n",
       "  <thead>\n",
       "    <tr style=\"text-align: right;\">\n",
       "      <th></th>\n",
       "      <th>OBJECTID</th>\n",
       "      <th>CATEGORY</th>\n",
       "      <th>UNIT</th>\n",
       "      <th>FACILITY</th>\n",
       "      <th>CLASS</th>\n",
       "      <th>UMP</th>\n",
       "      <th>DESCRIPTIO</th>\n",
       "      <th>REGION</th>\n",
       "      <th>COUNTY</th>\n",
       "      <th>URL</th>\n",
       "      <th>SOURCE</th>\n",
       "      <th>UPDATE_</th>\n",
       "      <th>OFFICE</th>\n",
       "      <th>ACRES</th>\n",
       "      <th>LANDS_UID</th>\n",
       "      <th>GREENCERT</th>\n",
       "      <th>UMPURL</th>\n",
       "      <th>SHAPE_AREA</th>\n",
       "      <th>SHAPE_LEN</th>\n",
       "      <th>geometry</th>\n",
       "    </tr>\n",
       "  </thead>\n",
       "  <tbody>\n",
       "    <tr>\n",
       "      <th>0</th>\n",
       "      <td>1</td>\n",
       "      <td>FOR PRES DET PAR</td>\n",
       "      <td>CFP</td>\n",
       "      <td>HANCOCK FP DETACHED PARCEL</td>\n",
       "      <td>WILD FOREST</td>\n",
       "      <td>None</td>\n",
       "      <td>DELAWARE COUNTY DETACHED PARCEL</td>\n",
       "      <td>4</td>\n",
       "      <td>DELAWARE</td>\n",
       "      <td>https://www.dec.ny.gov/about/558.html</td>\n",
       "      <td>DELAWARE RPP</td>\n",
       "      <td>5/12</td>\n",
       "      <td>STAMFORD</td>\n",
       "      <td>738.935321</td>\n",
       "      <td>103</td>\n",
       "      <td>N</td>\n",
       "      <td>https://www.dec.ny.gov/lands/7811.html#K_Detac...</td>\n",
       "      <td>2.990365e+06</td>\n",
       "      <td>7927.662385</td>\n",
       "      <td>POLYGON ((486093.245 4635308.586, 486787.235 4...</td>\n",
       "    </tr>\n",
       "    <tr>\n",
       "      <th>1</th>\n",
       "      <td>2</td>\n",
       "      <td>FOR PRES DET PAR</td>\n",
       "      <td>CFP</td>\n",
       "      <td>HANCOCK FP DETACHED PARCEL</td>\n",
       "      <td>WILD FOREST</td>\n",
       "      <td>None</td>\n",
       "      <td>DELAWARE COUNTY DETACHED PARCEL</td>\n",
       "      <td>4</td>\n",
       "      <td>DELAWARE</td>\n",
       "      <td>https://www.dec.ny.gov/about/558.html</td>\n",
       "      <td>DELAWARE RPP</td>\n",
       "      <td>5/12</td>\n",
       "      <td>STAMFORD</td>\n",
       "      <td>282.673690</td>\n",
       "      <td>1218</td>\n",
       "      <td>N</td>\n",
       "      <td>https://www.dec.ny.gov/lands/7811.html#K_Detac...</td>\n",
       "      <td>1.143940e+06</td>\n",
       "      <td>4776.375600</td>\n",
       "      <td>POLYGON ((491931.514 4637416.256, 491305.424 4...</td>\n",
       "    </tr>\n",
       "    <tr>\n",
       "      <th>2</th>\n",
       "      <td>3</td>\n",
       "      <td>FOR PRES DET PAR</td>\n",
       "      <td>CFP</td>\n",
       "      <td>HANCOCK FP DETACHED PARCEL</td>\n",
       "      <td>WILD FOREST</td>\n",
       "      <td>None</td>\n",
       "      <td>DELAWARE COUNTY DETACHED PARCEL</td>\n",
       "      <td>4</td>\n",
       "      <td>DELAWARE</td>\n",
       "      <td>https://www.dec.ny.gov/about/558.html</td>\n",
       "      <td>DELAWARE RPP</td>\n",
       "      <td>5/12</td>\n",
       "      <td>STAMFORD</td>\n",
       "      <td>234.391222</td>\n",
       "      <td>1780</td>\n",
       "      <td>N</td>\n",
       "      <td>https://www.dec.ny.gov/lands/7811.html#K_Detac...</td>\n",
       "      <td>9.485476e+05</td>\n",
       "      <td>5783.070364</td>\n",
       "      <td>POLYGON ((486000.287 4635834.453, 485007.550 4...</td>\n",
       "    </tr>\n",
       "    <tr>\n",
       "      <th>3</th>\n",
       "      <td>4</td>\n",
       "      <td>FOR PRES DET PAR</td>\n",
       "      <td>CFP</td>\n",
       "      <td>GREENE COUNTY FP DETACHED PARCEL</td>\n",
       "      <td>WILD FOREST</td>\n",
       "      <td>None</td>\n",
       "      <td>None</td>\n",
       "      <td>4</td>\n",
       "      <td>GREENE</td>\n",
       "      <td>https://www.dec.ny.gov/about/558.html</td>\n",
       "      <td>GREENE RPP</td>\n",
       "      <td>5/12</td>\n",
       "      <td>STAMFORD</td>\n",
       "      <td>450.298499</td>\n",
       "      <td>2060</td>\n",
       "      <td>N</td>\n",
       "      <td>https://www.dec.ny.gov/lands/7811.html#K_Detac...</td>\n",
       "      <td>1.822293e+06</td>\n",
       "      <td>7021.644833</td>\n",
       "      <td>POLYGON ((541716.775 4675243.268, 541217.579 4...</td>\n",
       "    </tr>\n",
       "    <tr>\n",
       "      <th>4</th>\n",
       "      <td>5</td>\n",
       "      <td>FOR PRES DET PAR</td>\n",
       "      <td>CFP</td>\n",
       "      <td>HANCOCK FP DETACHED PARCEL</td>\n",
       "      <td>WILD FOREST</td>\n",
       "      <td>None</td>\n",
       "      <td>DELAWARE COUNTY DETACHED PARCEL</td>\n",
       "      <td>4</td>\n",
       "      <td>DELAWARE</td>\n",
       "      <td>https://www.dec.ny.gov/about/558.html</td>\n",
       "      <td>DELAWARE RPP, DECRP</td>\n",
       "      <td>9/14</td>\n",
       "      <td>STAMFORD</td>\n",
       "      <td>445.747086</td>\n",
       "      <td>634</td>\n",
       "      <td>N</td>\n",
       "      <td>https://www.dec.ny.gov/lands/7811.html#K_Detac...</td>\n",
       "      <td>1.803874e+06</td>\n",
       "      <td>7680.636755</td>\n",
       "      <td>POLYGON ((487253.577 4641356.293, 486541.193 4...</td>\n",
       "    </tr>\n",
       "  </tbody>\n",
       "</table>\n",
       "</div>"
      ],
      "text/plain": [
       "   OBJECTID          CATEGORY UNIT                          FACILITY  \\\n",
       "0         1  FOR PRES DET PAR  CFP        HANCOCK FP DETACHED PARCEL   \n",
       "1         2  FOR PRES DET PAR  CFP        HANCOCK FP DETACHED PARCEL   \n",
       "2         3  FOR PRES DET PAR  CFP        HANCOCK FP DETACHED PARCEL   \n",
       "3         4  FOR PRES DET PAR  CFP  GREENE COUNTY FP DETACHED PARCEL   \n",
       "4         5  FOR PRES DET PAR  CFP        HANCOCK FP DETACHED PARCEL   \n",
       "\n",
       "         CLASS   UMP                       DESCRIPTIO  REGION    COUNTY  \\\n",
       "0  WILD FOREST  None  DELAWARE COUNTY DETACHED PARCEL       4  DELAWARE   \n",
       "1  WILD FOREST  None  DELAWARE COUNTY DETACHED PARCEL       4  DELAWARE   \n",
       "2  WILD FOREST  None  DELAWARE COUNTY DETACHED PARCEL       4  DELAWARE   \n",
       "3  WILD FOREST  None                             None       4    GREENE   \n",
       "4  WILD FOREST  None  DELAWARE COUNTY DETACHED PARCEL       4  DELAWARE   \n",
       "\n",
       "                                     URL               SOURCE UPDATE_  \\\n",
       "0  https://www.dec.ny.gov/about/558.html         DELAWARE RPP    5/12   \n",
       "1  https://www.dec.ny.gov/about/558.html         DELAWARE RPP    5/12   \n",
       "2  https://www.dec.ny.gov/about/558.html         DELAWARE RPP    5/12   \n",
       "3  https://www.dec.ny.gov/about/558.html           GREENE RPP    5/12   \n",
       "4  https://www.dec.ny.gov/about/558.html  DELAWARE RPP, DECRP    9/14   \n",
       "\n",
       "     OFFICE       ACRES  LANDS_UID GREENCERT  \\\n",
       "0  STAMFORD  738.935321        103         N   \n",
       "1  STAMFORD  282.673690       1218         N   \n",
       "2  STAMFORD  234.391222       1780         N   \n",
       "3  STAMFORD  450.298499       2060         N   \n",
       "4  STAMFORD  445.747086        634         N   \n",
       "\n",
       "                                              UMPURL    SHAPE_AREA  \\\n",
       "0  https://www.dec.ny.gov/lands/7811.html#K_Detac...  2.990365e+06   \n",
       "1  https://www.dec.ny.gov/lands/7811.html#K_Detac...  1.143940e+06   \n",
       "2  https://www.dec.ny.gov/lands/7811.html#K_Detac...  9.485476e+05   \n",
       "3  https://www.dec.ny.gov/lands/7811.html#K_Detac...  1.822293e+06   \n",
       "4  https://www.dec.ny.gov/lands/7811.html#K_Detac...  1.803874e+06   \n",
       "\n",
       "     SHAPE_LEN                                           geometry  \n",
       "0  7927.662385  POLYGON ((486093.245 4635308.586, 486787.235 4...  \n",
       "1  4776.375600  POLYGON ((491931.514 4637416.256, 491305.424 4...  \n",
       "2  5783.070364  POLYGON ((486000.287 4635834.453, 485007.550 4...  \n",
       "3  7021.644833  POLYGON ((541716.775 4675243.268, 541217.579 4...  \n",
       "4  7680.636755  POLYGON ((487253.577 4641356.293, 486541.193 4...  "
      ]
     },
     "execution_count": 3,
     "metadata": {},
     "output_type": "execute_result"
    }
   ],
   "source": [
    "full_data = gpd.read_file(\"Data/DEC_lands/DecLands.shp\")\n",
    "full_data.head()"
   ]
  },
  {
   "cell_type": "code",
   "execution_count": 4,
   "metadata": {},
   "outputs": [
    {
     "data": {
      "text/plain": [
       "geopandas.geodataframe.GeoDataFrame"
      ]
     },
     "execution_count": 4,
     "metadata": {},
     "output_type": "execute_result"
    }
   ],
   "source": [
    "type(full_data)"
   ]
  },
  {
   "cell_type": "code",
   "execution_count": 5,
   "metadata": {},
   "outputs": [],
   "source": [
    "data = full_data.loc[:, [\"CLASS\", \"COUNTY\", \"geometry\"]].copy()"
   ]
  },
  {
   "cell_type": "code",
   "execution_count": 6,
   "metadata": {},
   "outputs": [
    {
     "data": {
      "text/plain": [
       "WILD FOREST                   1119\n",
       "INTENSIVE USE                  143\n",
       "PRIMITIVE                       63\n",
       "WILDERNESS                      52\n",
       "UNCLASSIFIED                    17\n",
       "HISTORIC                         5\n",
       "PRIMITIVE BICYCLE CORRIDOR       4\n",
       "CANOE AREA                       1\n",
       "Name: CLASS, dtype: int64"
      ]
     },
     "execution_count": 6,
     "metadata": {},
     "output_type": "execute_result"
    }
   ],
   "source": [
    "# How many lands of each type are there?\n",
    "data.CLASS.value_counts()"
   ]
  },
  {
   "cell_type": "code",
   "execution_count": 7,
   "metadata": {},
   "outputs": [
    {
     "data": {
      "text/html": [
       "<div>\n",
       "<style scoped>\n",
       "    .dataframe tbody tr th:only-of-type {\n",
       "        vertical-align: middle;\n",
       "    }\n",
       "\n",
       "    .dataframe tbody tr th {\n",
       "        vertical-align: top;\n",
       "    }\n",
       "\n",
       "    .dataframe thead th {\n",
       "        text-align: right;\n",
       "    }\n",
       "</style>\n",
       "<table border=\"1\" class=\"dataframe\">\n",
       "  <thead>\n",
       "    <tr style=\"text-align: right;\">\n",
       "      <th></th>\n",
       "      <th>CLASS</th>\n",
       "      <th>COUNTY</th>\n",
       "      <th>geometry</th>\n",
       "    </tr>\n",
       "  </thead>\n",
       "  <tbody>\n",
       "    <tr>\n",
       "      <th>0</th>\n",
       "      <td>WILD FOREST</td>\n",
       "      <td>DELAWARE</td>\n",
       "      <td>POLYGON ((486093.245 4635308.586, 486787.235 4...</td>\n",
       "    </tr>\n",
       "    <tr>\n",
       "      <th>1</th>\n",
       "      <td>WILD FOREST</td>\n",
       "      <td>DELAWARE</td>\n",
       "      <td>POLYGON ((491931.514 4637416.256, 491305.424 4...</td>\n",
       "    </tr>\n",
       "    <tr>\n",
       "      <th>2</th>\n",
       "      <td>WILD FOREST</td>\n",
       "      <td>DELAWARE</td>\n",
       "      <td>POLYGON ((486000.287 4635834.453, 485007.550 4...</td>\n",
       "    </tr>\n",
       "    <tr>\n",
       "      <th>3</th>\n",
       "      <td>WILD FOREST</td>\n",
       "      <td>GREENE</td>\n",
       "      <td>POLYGON ((541716.775 4675243.268, 541217.579 4...</td>\n",
       "    </tr>\n",
       "    <tr>\n",
       "      <th>4</th>\n",
       "      <td>WILD FOREST</td>\n",
       "      <td>DELAWARE</td>\n",
       "      <td>POLYGON ((487253.577 4641356.293, 486541.193 4...</td>\n",
       "    </tr>\n",
       "  </tbody>\n",
       "</table>\n",
       "</div>"
      ],
      "text/plain": [
       "         CLASS    COUNTY                                           geometry\n",
       "0  WILD FOREST  DELAWARE  POLYGON ((486093.245 4635308.586, 486787.235 4...\n",
       "1  WILD FOREST  DELAWARE  POLYGON ((491931.514 4637416.256, 491305.424 4...\n",
       "2  WILD FOREST  DELAWARE  POLYGON ((486000.287 4635834.453, 485007.550 4...\n",
       "3  WILD FOREST    GREENE  POLYGON ((541716.775 4675243.268, 541217.579 4...\n",
       "4  WILD FOREST  DELAWARE  POLYGON ((487253.577 4641356.293, 486541.193 4..."
      ]
     },
     "execution_count": 7,
     "metadata": {},
     "output_type": "execute_result"
    }
   ],
   "source": [
    "# Select lands that fall under the \"WILD FOREST\" or \"WILDERNESS\" category\n",
    "wild_lands = data.loc[data.CLASS.isin(['WILD FOREST', 'WILDERNESS'])].copy()\n",
    "wild_lands.head()"
   ]
  },
  {
   "cell_type": "markdown",
   "metadata": {},
   "source": [
    "## Create the first map"
   ]
  },
  {
   "cell_type": "code",
   "execution_count": 8,
   "metadata": {},
   "outputs": [
    {
     "data": {
      "text/plain": [
       "<AxesSubplot:>"
      ]
     },
     "execution_count": 8,
     "metadata": {},
     "output_type": "execute_result"
    },
    {
     "data": {
      "image/png": "[encoded data removed]",
      "text/plain": [
       "<Figure size 640x480 with 1 Axes>"
      ]
     },
     "metadata": {},
     "output_type": "display_data"
    }
   ],
   "source": [
    "wild_lands.plot()"
   ]
  },
  {
   "cell_type": "code",
   "execution_count": 9,
   "metadata": {},
   "outputs": [
    {
     "data": {
      "text/plain": [
       "0    POLYGON ((486093.245 4635308.586, 486787.235 4...\n",
       "1    POLYGON ((491931.514 4637416.256, 491305.424 4...\n",
       "2    POLYGON ((486000.287 4635834.453, 485007.550 4...\n",
       "3    POLYGON ((541716.775 4675243.268, 541217.579 4...\n",
       "4    POLYGON ((487253.577 4641356.293, 486541.193 4...\n",
       "Name: geometry, dtype: geometry"
      ]
     },
     "execution_count": 9,
     "metadata": {},
     "output_type": "execute_result"
    }
   ],
   "source": [
    "# View the first five entries in the \"geometry\" column\n",
    "wild_lands.geometry.head()"
   ]
  }
 ],
 "metadata": {
  "kernelspec": {
   "display_name": "Python 3.9.13 ('base')",
   "language": "python",
   "name": "python3"
  },
  "language_info": {
   "codemirror_mode": {
    "name": "ipython",
    "version": 3
   },
   "file_extension": ".py",
   "mimetype": "text/x-python",
   "name": "python",
   "nbconvert_exporter": "python",
   "pygments_lexer": "ipython3",
   "version": "3.9.13"
  },
  "orig_nbformat": 4,
  "vscode": {
   "interpreter": {
    "hash": "23490fa43464aa8a15c8d5ef2a297242099da6d3d39ce3d0cb2d1da1499a8d9c"
   }
  }
 },
 "nbformat": 4,
 "nbformat_minor": 2
}
